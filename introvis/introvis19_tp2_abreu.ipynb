{
 "cells": [
  {
   "cell_type": "markdown",
   "metadata": {},
   "source": [
    "# TP2 Mean Shift"
   ]
  },
  {
   "cell_type": "markdown",
   "metadata": {},
   "source": [
    "Read, understand, and complete and run the following notebook. You must return the completed notebook, including your answers and illustrations (you may need to add cells to write your code or comments). \n",
    "\n",
    "Return your work by e-mail using a single file (ipynb or zip) with the format 'introvis18_tp2_yourname.ipynb'\n"
   ]
  },
  {
   "cell_type": "markdown",
   "metadata": {},
   "source": [
    "## 0. Imports"
   ]
  },
  {
   "cell_type": "code",
   "execution_count": 1,
   "metadata": {},
   "outputs": [],
   "source": [
    "import numpy as np \n",
    "# this is the key library for manipulating arrays. Use the online ressources! http://www.numpy.org/\n",
    "\n",
    "import matplotlib.pyplot as plt \n",
    "# used to read images, display and plot http://matplotlib.org/api/pyplot_api.html . \n",
    "#You can also check this simple intro to using ipython notebook with images https://matplotlib.org/users/image_tutorial.html\n",
    "\n",
    "%matplotlib inline \n",
    "# to display directly in the notebook\n",
    "\n",
    "import scipy.ndimage as ndimage\n",
    "# one of several python libraries for image procession\n",
    "\n",
    "plt.rcParams['image.cmap'] = 'gray' \n",
    "# by default, the grayscale images are displayed with the jet colormap: use grayscale instead\n",
    "\n",
    "from skimage.color import rgb2lab,lab2rgb\n",
    "# for colorspace conversions\n",
    "\n",
    "import random\n",
    "\n",
    "import time"
   ]
  },
  {
   "cell_type": "markdown",
   "metadata": {},
   "source": [
    "___\n",
    "___\n",
    "## 1. Mean shift"
   ]
  },
  {
   "cell_type": "markdown",
   "metadata": {},
   "source": [
    "<span style=\"color:lightgrey\">In this section, we will implement Mean Shift and test is on simple synthetic data (i.e. points you will sample from a probability distribution with known density - see below)."
   ]
  },
  {
   "cell_type": "markdown",
   "metadata": {},
   "source": [
    "**1: Generate a random vector of 100 2D points 'data1' with 50 points sampled from a Gaussian distribution of variance 1 centered in (0,0) and 50 points sampled from a Gaussian distribution of variance 1 centered in (2,1). Plot your points using the 'plt.scatter' function. This 'data' vector will be the synthetic data you will try to cluster, and for which the algorithm should manage to separate the point coming from each of the two Gaussians. Repeat to create a vector 'data2' with the center of the second Gaussian in (3,3). Which will be the easiest data vector to cluster? Test both in the following experiments.**"
   ]
  },
  {
   "cell_type": "code",
   "execution_count": 2,
   "metadata": {},
   "outputs": [],
   "source": [
    "# random vector of 100 points with two 50 points gaussian distributions\n",
    "def gauss_2d(mu, sigma):\n",
    "    x = random.gauss(mu[0], sigma[0])\n",
    "    y = random.gauss(mu[1], sigma[1])\n",
    "    return [x, y]\n",
    "\n",
    "def rdvec(mu1,sigma1,mu2,sigma2,n1=50,n2=50):\n",
    "    X,x_1,x_2,data = [],[],[],[]\n",
    "\n",
    "    for i in range(n1):\n",
    "        x_1.append(gauss_2d(mu1,sigma1))\n",
    "    for j in range(n2):\n",
    "        x_2.append(gauss_2d(mu2,sigma2))\n",
    "\n",
    "    X.append(x_1)\n",
    "    X.append(x_2)\n",
    "\n",
    "    X = np.array(X)\n",
    "    \n",
    "    data = np.vstack(X)\n",
    "    \n",
    "    return X,data"
   ]
  },
  {
   "cell_type": "code",
   "execution_count": 3,
   "metadata": {},
   "outputs": [
    {
     "data": {
      "image/png": "[encoded data removed]",
      "text/plain": [
       "<Figure size 1080x360 with 2 Axes>"
      ]
     },
     "metadata": {
      "needs_background": "light"
     },
     "output_type": "display_data"
    }
   ],
   "source": [
    "X1, data1 = rdvec([0,0],[1,1],[2,2],[1,1])\n",
    "X2, data2 = rdvec([0,0],[1,1],[3,3],[1,1])\n",
    "\n",
    "\n",
    "# plot (with one color for each distributionn)\n",
    "fig = plt.figure(figsize = (15,5))\n",
    "\n",
    "# data 1\n",
    "plt.subplot(1, 2, 1)\n",
    "for x in X1:\n",
    "    plt.scatter(x[:,0],x[:,1],edgecolors='black') # scatter points\n",
    "plt.title(\"data1\")\n",
    "\n",
    "# data 2\n",
    "plt.subplot(1, 2, 2)\n",
    "for x in X2:\n",
    "    plt.scatter(x[:,0],x[:,1],edgecolors='black') # scatter points\n",
    "plt.title(\"data2\")\n",
    "\n",
    "# show plot\n",
    "plt.show()"
   ]
  },
  {
   "cell_type": "markdown",
   "metadata": {},
   "source": [
    "The easier vector to cluster should be `data2` since the distributions are further apart from each other (so less superimposed points)"
   ]
  },
  {
   "cell_type": "markdown",
   "metadata": {},
   "source": [
    "___\n",
    "**2: We will segment images using a different distance parameter for space and color. For this reason, we will use a d dimensionnal vector 'sigma' as a parameter for all our mean-shift functions. It defines a scale for each dimension. What would be a meaningful parameter sigma for each of the synthetic data sets (data1 and data2)?**"
   ]
  },
  {
   "cell_type": "markdown",
   "metadata": {},
   "source": [
    "The smaller sigma is, the more modes it finds (it can end up not being very useful, if we are trying to modelize simple situations). On the contrary, when sigma is large, it agregates points together more easily and can quickly collapse into one mode.\n",
    "\n",
    "For data1, a sigma bigger than 0.8 seems to collapse all the updated positions into one \"blurb\", which will be a bad thing when we want to compute modes. When it is smaller than 0.6, the change is very small. We can confortably pick a value between 0.6 and 0.8.\n",
    "\n",
    "For data2, we can pick a value between 0.6 and 1 (to have usefull values). \n",
    "\n",
    "A compromise (for testing future functions for both at the same time) can be 0.7"
   ]
  },
  {
   "cell_type": "markdown",
   "metadata": {},
   "source": [
    "___\n",
    "**3: Implement the function MS_step which takes as input a vector of all the data point 'data', a starting point 'x' and the standard deviations 'sigma' and returns the updated position of the point 'x' after one step of the mean-shift algorithm. Test it on your synthetic data and visualize the result.**\n",
    "\n",
    "<span style=\"color:lightgrey\">Be cautious: the formula in the lecture are mostly in the isotropic case. In the anisotropic case, you can either redo the derivation, or simply scale the components to come back to the isotropic case."
   ]
  },
  {
   "cell_type": "markdown",
   "metadata": {},
   "source": [
    "we will be using the approach described in the following papers:\n",
    "\n",
    " - <div class=\"csl-bib-body\" style=\"line-height: 2; margin-left: 2em; text-indent:-2em;\">\n",
    "  <div class=\"csl-entry\">Comaniciu, D., and P. Meer. “Mean Shift: A Robust Approach toward Feature Space Analysis.” <i>IEEE Transactions on Pattern Analysis and Machine Intelligence</i>, vol. 24, no. 5, May 2002, pp. 603–19. <i>DOI.org (Crossref)</i>, doi:10.1109/34.1000236.</div>\n",
    "</div>\n",
    " - <div class=\"csl-bib-body\" style=\"line-height: 2; margin-left: 2em; text-indent:-2em;\">\n",
    "  <div class=\"csl-entry\">Bugeau, Aurelie, and Patrick Pérez. “Bandwidth Selection for Kernel Estimation in Mixed Multi-Dimensional Spaces.” <i>ArXiv:0709.1920 [Cs]</i>, Sept. 2007. <i>arXiv.org</i>, http://arxiv.org/abs/0709.1920.</div>\n",
    "</div>\n",
    "\n",
    "Our objective, in MS_step, is to compute $m(x) = \\frac{\\sum x_i exp(-\\frac{1}{2}|| \\frac{(x-x_i)}{H}|| )}{\\sum exp(-\\frac{1}{2}|| \\frac{(x-x_i)}{H}|| )} - x$ for a given x\n",
    "\n",
    "Since we want to visualize the result afterwords, it is easier to superimpose the difference between each point and its new position, so we will also output $m(x) - x$ = mx_lambda (it will be the default value)\n",
    "\n",
    "We start with the kernel density estimator: $\\hat{f}_h(x) = \\frac{1}{n} \\sum_{i=1}^{n} K_H(x-x_i)$\n",
    "\n",
    "where $K_H(x) = \\frac{1}{H^{1/2}} K(\\frac{x}{H^{1/2}})$ is the kernel and $H$ the bandwidth. We can consider the bandwidth as a matrix corresponding to the square of the diagonalization of sigma (as seen in the first paper).\n",
    "\n",
    "we want a kernel profile such that $K(x)$ integrates to one: let's find $K(x) =  c_k k(||x||^2)$, with $c_k$ a normalization constant. In our case, we are looking for a Gaussian  kernel\n",
    "\n",
    "we can rewrite $\\hat{f}(x)$: $= \\frac{c_k}{n|H|^{1/2}} \\sum_{i=1}^{n} k(||\\frac{x-x_i}{H^{1/2}}||)$ with $k(x)$ being a kernel defined by the profile: $k(x) = exp(-\\frac{1}{2}x)$.\n",
    "\n",
    "we have $g(x) = -k^{'}(x) = -\\frac{1}{2}k(x)$, so we obtain the normalization $c_k = \\frac{1}{\\sqrt{(2\\pi)^{d}}}$, with d the dimension of $\\sigma$\n",
    "\n",
    "we can rewrite $m(x)$: $= \\frac{\\sum x_i g(|| \\frac{(x-x_i)}{H}|| )}{\\sum g(|| \\frac{(x-x_i)}{H}|| )} - x$ with $g(x)$ as defined previously\n",
    "\n",
    "To compute $m(x)$, we first want to compute the norm $|| \\frac{(x-x_i)}{H}||$, that gives the distance between the point x to all other points. For that purpose, we implement a function `norm(x,X)` that given a point $x$ and a set of points $X$, will iterate over them and return the distances to each one of them normalized by $H$.\n",
    "\n",
    "we can then implement the functions `k(x)` and `g(x)`, not forgetting to normalize by $c_k$, and finally compute $m(x)$"
   ]
  },
  {
   "cell_type": "code",
   "execution_count": 4,
   "metadata": {},
   "outputs": [],
   "source": [
    "def MS_step(data, x, sigma, display = True):\n",
    "    d = sigma.shape # dimension\n",
    "    bandwidth = np.diag(sigma)**2 # bandwidth matrix\n",
    "    \n",
    "    #------------------------------------------------------#\n",
    "    def norm(x,X):\n",
    "        return (np.sqrt((x-X)**2).dot(np.linalg.inv(bandwidth))).sum(1)\n",
    "    \n",
    "    def k(x):\n",
    "        return np.exp((-1/2)*x)\n",
    "    \n",
    "    def g(x): # g(x) = -k'(x) = -(1/2)k(x)\n",
    "        return (-1/2)*k(x)\n",
    "    \n",
    "    c = 1/(np.sqrt(2*np.pi)**d) # normalization for g(x)\n",
    "    #------------------------------------------------------#\n",
    "    \n",
    "    coef = c * g(norm(x,data))\n",
    "    \n",
    "    mx = data.T.dot(coef)/np.sum(coef) + x\n",
    "    mx_lambda = data.T.dot(coef)/np.sum(coef)\n",
    "    \n",
    "    return mx_lambda if display else mx"
   ]
  },
  {
   "cell_type": "code",
   "execution_count": 5,
   "metadata": {},
   "outputs": [
    {
     "data": {
      "image/png": "[encoded data removed]",
      "text/plain": [
       "<Figure size 1080x360 with 2 Axes>"
      ]
     },
     "metadata": {
      "needs_background": "light"
     },
     "output_type": "display_data"
    }
   ],
   "source": [
    "sigma = np.array([0.7,0.7])\n",
    "\n",
    "# plot (with one color for each distributionn)\n",
    "fig = plt.figure(figsize = (15,5))\n",
    "\n",
    "# data 1\n",
    "plt.subplot(1, 2, 1)\n",
    "for x in X1:\n",
    "    plt.scatter(x[:,0],x[:,1],edgecolors='black') # scatter points\n",
    "next_step = np.apply_along_axis(lambda x: MS_step(data1, x, sigma), 1,\n",
    "                                data1) # get points after MS_step\n",
    "plt.scatter(next_step[:,0], next_step[:,1], edgecolors='darkgreen',\n",
    "            color='lightgreen', label=\"next step\") # scatter them\n",
    "plt.legend() \n",
    "plt.title(\"data1\")\n",
    "\n",
    "# data 2\n",
    "plt.subplot(1, 2, 2)\n",
    "for x in X2:\n",
    "    plt.scatter(x[:,0],x[:,1],edgecolors='black') # scatter points\n",
    "next_step_2 = np.apply_along_axis(lambda x: MS_step(data2, x, sigma), 1, \n",
    "                                  data2) # get points after MS_step\n",
    "plt.scatter(next_step_2[:,0], next_step_2[:,1], edgecolors='darkgreen',\n",
    "            color='lightgreen', label=\"next step\") # scatter them\n",
    "plt.legend()\n",
    "plt.title(\"data2\")\n",
    "\n",
    "# show plot\n",
    "plt.show()"
   ]
  },
  {
   "cell_type": "markdown",
   "metadata": {},
   "source": [
    "___\n",
    "**4: Implement the function MS_point which iterates MS_step until convergence (e.g. the estimate changes by less than 0.01). Test it on your synthetic data and visualize the results.**"
   ]
  },
  {
   "cell_type": "code",
   "execution_count": 6,
   "metadata": {},
   "outputs": [],
   "source": [
    "def MS_point(data,x,sigma,p=0.01):\n",
    "    \n",
    "    while np.linalg.norm(x-MS_step(data,x,sigma))>p: # do MS_step until delta<p\n",
    "        x = MS_step(data,x,sigma)\n",
    "    \n",
    "    return x"
   ]
  },
  {
   "cell_type": "code",
   "execution_count": 7,
   "metadata": {},
   "outputs": [
    {
     "data": {
      "image/png": "[encoded data removed]",
      "text/plain": [
       "<Figure size 1080x360 with 2 Axes>"
      ]
     },
     "metadata": {
      "needs_background": "light"
     },
     "output_type": "display_data"
    }
   ],
   "source": [
    "sigma = np.array([0.7,0.7])\n",
    "\n",
    "# plot (with one color for each distributionn)\n",
    "fig = plt.figure(figsize = (15,5))\n",
    "\n",
    "# data 1\n",
    "plt.subplot(1, 2, 1)\n",
    "for x in X1:\n",
    "    plt.scatter(x[:,0],x[:,1],edgecolors='black') # scatter points\n",
    "next_step_conv = np.apply_along_axis(lambda x: MS_point(data1, x, sigma), 1,\n",
    "                                     data1) # get points after MS_step\n",
    "plt.scatter(next_step_conv[:,0], next_step_conv[:,1], s=200, edgecolors='darkgreen',\n",
    "            color='lightgreen', label=\"next step convergence\") # scatter them\n",
    "plt.legend() \n",
    "plt.title(\"data1\")\n",
    "\n",
    "# data 2\n",
    "plt.subplot(1, 2, 2)\n",
    "for x in X2:\n",
    "    plt.scatter(x[:,0],x[:,1],edgecolors='black') # scatter points\n",
    "next_step_conv_2 = np.apply_along_axis(lambda x: MS_point(data2, x, sigma), 1,\n",
    "                                       data2) # get points after MS_step\n",
    "plt.scatter(next_step_conv_2[:,0], next_step_conv_2[:,1], s=200, edgecolors='darkgreen',\n",
    "            color='lightgreen', label=\"next step convergence\") # scatter them\n",
    "plt.legend()\n",
    "plt.title(\"data2\")\n",
    "\n",
    "# show plot\n",
    "plt.show()"
   ]
  },
  {
   "cell_type": "markdown",
   "metadata": {},
   "source": [
    "___\n",
    "**5: Implement the MS function, which implements the full mean shift algorithm by iterating MS_point on all the points, and merging modes which distance normalized by sigma $\\sqrt{\\sum((\\frac{x-y}{\\sigma})^{2}) }$ is smaller than 0.5 . It must return a list of the modes and a label (corresponding to a mode) for each point.**"
   ]
  },
  {
   "cell_type": "markdown",
   "metadata": {},
   "source": [
    "straight forward function. I also implement a mean parameter, that allows to compute the mean value for a given mode, instead of arbitrarily setting the value for the mode according to that of the point that first created it."
   ]
  },
  {
   "cell_type": "code",
   "execution_count": 8,
   "metadata": {},
   "outputs": [],
   "source": [
    "def MS(data,sigma,tolerance = 0.5,mean = True):\n",
    "    \n",
    "    def find_modes(data,sigma,tolerance):\n",
    "        modes,modes_values,labels = [],[],[]\n",
    "        \n",
    "        for i,d in enumerate(data):\n",
    "            # initialize first mode with first MS_point value\n",
    "            if i ==  0:\n",
    "                modes.append([0,MS_point(data,data[0],sigma)])\n",
    "                modes_values.append([0,0,MS_point(data,data[0],sigma)])\n",
    "                labels.append([0])\n",
    "                nb_modes = 1\n",
    "                continue\n",
    "                \n",
    "            pt = MS_point(data,d,sigma)\n",
    "            found_mode = False\n",
    "            \n",
    "            for j,m in modes:\n",
    "                if np.linalg.norm((pt-m)/sigma) <= tolerance:\n",
    "                    labels.append([j])\n",
    "                    modes_values.append([i,j,MS_point(data,d,sigma)])\n",
    "                    found_mode = True\n",
    "                    break # for if two modes are closer than the tolerance (small sigmas...)\n",
    "            \n",
    "            if not found_mode: \n",
    "                modes.append([nb_modes,MS_point(data,d,sigma)])\n",
    "                modes_values.append([i,nb_modes,MS_point(data,d,sigma)])\n",
    "                labels.append([nb_modes])\n",
    "                nb_modes += 1\n",
    "            \n",
    "            if len(labels) > data.shape[0]:\n",
    "                print(\"there was a problem in iteration\", i) # for debugging (break...)\n",
    "        \n",
    "        return np.vstack(np.array(modes)), modes_values, np.array(labels)\n",
    "    \n",
    "    \n",
    "    def mean_mode(modes,modes_values):\n",
    "        nb_modes = modes[modes.shape[0]-1][0]+1\n",
    "        value_dim = modes_values[0][2].shape[0]\n",
    "        \n",
    "        values = np.zeros((nb_modes,value_dim))\n",
    "        nb_values_mod = np.zeros(nb_modes)\n",
    "        mean_mod = []\n",
    "        \n",
    "        for val in modes_values:\n",
    "            for mod in range(nb_modes):\n",
    "                if val[1] == mod:\n",
    "                    values[mod] += val[2]\n",
    "                    nb_values_mod[mod]+=1\n",
    "        \n",
    "        for mod_i in range(nb_modes):\n",
    "            mean_mod.append([values[mod_i][j] / int(nb_values_mod[mod_i]) \n",
    "                             for j in range(value_dim)])\n",
    "        \n",
    "        mean_mod = np.array(mean_mod)\n",
    "        \n",
    "        return mean_mod\n",
    "\n",
    "    modes_ind, modes_values, labels = find_modes(data,sigma,tolerance)\n",
    "    \n",
    "    mean_modes = mean_mode(modes_ind,modes_values)\n",
    "    \n",
    "    modes = np.vstack(modes_ind[:,1]) # just keep position information\n",
    "        \n",
    "    \n",
    "    return (labels, mean_modes) if mean else (labels, modes)"
   ]
  },
  {
   "cell_type": "code",
   "execution_count": 10,
   "metadata": {},
   "outputs": [
    {
     "name": "stdout",
     "output_type": "stream",
     "text": [
      "mode 0 , centered in position [-0.02238969  0.00368429] , has 51 points\n",
      "mode 1 , centered in position [2.95244821 2.85655373] , has 49 points\n"
     ]
    }
   ],
   "source": [
    "sigma = np.array([0.6,0.6])\n",
    "\n",
    "labels,modes = MS(data2,sigma)\n",
    "nb_modes = np.zeros((len(modes),1))\n",
    "for i in range(len(data2)):\n",
    "    for j in range(len(modes)):\n",
    "        if labels[i][0] == j:\n",
    "            nb_modes[j] += 1\n",
    "            \n",
    "for it,(i,j) in enumerate(zip(modes, nb_modes)):\n",
    "    print(\"mode\",it,\", centered in position\",str(i),\", has\",int(j),\"points\")"
   ]
  },
  {
   "cell_type": "markdown",
   "metadata": {},
   "source": [
    "___\n",
    "___\n",
    "## 2. Segmentation"
   ]
  },
  {
   "cell_type": "markdown",
   "metadata": {},
   "source": [
    "**1: Download [this small image](http://imagine.enpc.fr/~aubrym/lectures/introvis17/legumes_small.jpg), load it and convert it to the Lab colorspace. Why is it necessary to change colorspace? What are the range of the colorvalues in Lab?**"
   ]
  },
  {
   "cell_type": "code",
   "execution_count": 11,
   "metadata": {},
   "outputs": [
    {
     "name": "stdout",
     "output_type": "stream",
     "text": [
      "(62, 50, 3)\n"
     ]
    },
    {
     "data": {
      "image/png": "[encoded data removed]",
      "text/plain": [
       "<Figure size 432x288 with 1 Axes>"
      ]
     },
     "metadata": {
      "needs_background": "light"
     },
     "output_type": "display_data"
    }
   ],
   "source": [
    "img_lab = rgb2lab(plt.imread('legumes_small.jpg'))\n",
    "print(img_lab.shape)\n",
    "plt.imshow(plt.imread('legumes_small.jpg'))\n",
    "plt.show()"
   ]
  },
  {
   "cell_type": "markdown",
   "metadata": {},
   "source": [
    "in RGB colorspace, two colors tham seem to be visually similar have totally different values. The Lab colorspace was made to make visually similar colors close in the colorspace.\n",
    "\n",
    "Lab colorspace:\n",
    " - Luminance: $[0,100]$\n",
    " - Green-Red: $[-127,128]$\n",
    " - Blue-Yellow: $[-128,127]$"
   ]
  },
  {
   "cell_type": "markdown",
   "metadata": {},
   "source": [
    "___\n",
    "**2: In Mean Shift segmentation, all pixels in the image will be treated as data points including both their color and position in the image. Convert the (N,M,3) image into an (NM,5) array incuding color and position information for each point. What would be a meaningful value for sigma?**\n",
    "\n",
    "<span style=\"color:lightgrey\">Tip: use the np.meshgrid function"
   ]
  },
  {
   "cell_type": "code",
   "execution_count": 12,
   "metadata": {},
   "outputs": [],
   "source": [
    "# convert (N,M,3) into (NM,5)\n",
    "def nm5(img_lab):\n",
    "    xx, yy = np.meshgrid(np.arange(img_lab.shape[1]), \n",
    "                         np.arange(img_lab.shape[0])) # retrieve position information\n",
    "    \n",
    "    img_pos = np.concatenate((img_lab, yy[:,:,None], \n",
    "                              xx[:,:,None]), axis=2) # add two dimensions with position information\n",
    "\n",
    "    img_NM5 = np.reshape(img_pos, [-1, 5]) # flatten\n",
    "    \n",
    "    return img_NM5"
   ]
  },
  {
   "cell_type": "markdown",
   "metadata": {},
   "source": [
    "It is difficult to find a meaningful value for sigma for several reasons. First and foremost, it is difficult to define how many modes we want at the end: do we want a schematic view (with few modes) or a more detailed segmentation? We could build an iterative function that would find values of sigma that result in a certain number of modes. But that would be impractical, since we have 5 different values of sigma, one for each dimension.\n",
    "\n",
    "In the 2D example seen above, there seems to be sweetspot for sigma (where it gives only two modes, doesn't colapse to one mode, and seems to have a good precision) between 0.5 and 0.9. Outside this range the function doesn't find two modes (only one when it is under 0.5, and several when over 0.9). Let's try to manually find a value for sigma that seems coherent."
   ]
  },
  {
   "cell_type": "markdown",
   "metadata": {},
   "source": [
    "___\n",
    "**3: Use the MS function from the previous section to compute a meaningful segmentation of the image. Visualize the results as an image by replacing the color values of the pixels associated to each mode by the color of the mode.**"
   ]
  },
  {
   "cell_type": "code",
   "execution_count": 14,
   "metadata": {},
   "outputs": [],
   "source": [
    "def segmentation(img_lab,sigma,mean=True):\n",
    "    img_NM5 = nm5(img_lab)\n",
    "    \n",
    "    # compute modes and labels (and time it, can be long...)\n",
    "    start = time.time()\n",
    "    labels, modes = MS(img_NM5,sigma,mean)\n",
    "    end = time.time()\n",
    "    \n",
    "    print(end-start,\"seconds\")\n",
    "    print(\"The segmentation creates\",len(modes),\"modes\")\n",
    "    \n",
    "    # labels -> color\n",
    "    pts_mod = labels.tolist() # point -> mode\n",
    "    pts_col = [] # point -> color (in Lab format)\n",
    "    \n",
    "    for mod in pts_mod:\n",
    "        pts_col.append(modes[int(mod[0])][:3]) # append only L, a and b values\n",
    "    \n",
    "    seg_img = lab2rgb(np.reshape(np.array(pts_col), img_lab.shape)) # nm5 -> img_Lab -> img_rgb\n",
    "    \n",
    "    return seg_img"
   ]
  },
  {
   "cell_type": "code",
   "execution_count": 16,
   "metadata": {},
   "outputs": [
    {
     "name": "stdout",
     "output_type": "stream",
     "text": [
      "234.67291402816772 seconds\n",
      "The segmentation creates 28 modes\n"
     ]
    },
    {
     "data": {
      "text/plain": [
       "<matplotlib.image.AxesImage at 0x1c214b3250>"
      ]
     },
     "execution_count": 16,
     "metadata": {},
     "output_type": "execute_result"
    },
    {
     "data": {
      "image/png": "[encoded data removed]",
      "text/plain": [
       "<Figure size 432x288 with 1 Axes>"
      ]
     },
     "metadata": {
      "needs_background": "light"
     },
     "output_type": "display_data"
    }
   ],
   "source": [
    "sigma = np.array([1.6,1.6,1.6,1.6,1.6])\n",
    "plt.imshow(segmentation(img_lab,sigma))"
   ]
  }
 ],
 "metadata": {
  "kernelspec": {
   "display_name": "Python 3",
   "language": "python",
   "name": "python3"
  },
  "language_info": {
   "codemirror_mode": {
    "name": "ipython",
    "version": 3
   },
   "file_extension": ".py",
   "mimetype": "text/x-python",
   "name": "python",
   "nbconvert_exporter": "python",
   "pygments_lexer": "ipython3",
   "version": "3.7.6"
  }
 },
 "nbformat": 4,
 "nbformat_minor": 4
}
